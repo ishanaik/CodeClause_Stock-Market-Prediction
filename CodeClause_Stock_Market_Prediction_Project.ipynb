{
 "cells": [
  {
   "cell_type": "code",
   "execution_count": 1,
   "metadata": {
    "_kg_hide-input": true,
    "execution": {
     "iopub.execute_input": "2023-04-28T11:31:42.166263Z",
     "iopub.status.busy": "2023-04-28T11:31:42.165850Z",
     "iopub.status.idle": "2023-04-28T11:31:42.194713Z",
     "shell.execute_reply": "2023-04-28T11:31:42.193757Z",
     "shell.execute_reply.started": "2023-04-28T11:31:42.166160Z"
    },
    "id": "rG29jnHE2JsP"
   },
   "outputs": [],
   "source": [
    "import warnings\n",
    "warnings.filterwarnings('ignore')"
   ]
  },
  {
   "cell_type": "code",
   "execution_count": 2,
   "metadata": {
    "execution": {
     "iopub.execute_input": "2023-04-28T11:31:42.197485Z",
     "iopub.status.busy": "2023-04-28T11:31:42.196393Z",
     "iopub.status.idle": "2023-04-28T11:31:42.202466Z",
     "shell.execute_reply": "2023-04-28T11:31:42.201447Z",
     "shell.execute_reply.started": "2023-04-28T11:31:42.197422Z"
    },
    "id": "DXL9UGER2bMy"
   },
   "outputs": [],
   "source": [
    "# Importing required libraries\n",
    "import pandas as pd\n",
    "import numpy as np\n",
    "import matplotlib.pyplot as plt"
   ]
  },
  {
   "cell_type": "code",
   "execution_count": 3,
   "metadata": {
    "execution": {
     "iopub.execute_input": "2023-04-28T11:31:42.205073Z",
     "iopub.status.busy": "2023-04-28T11:31:42.203815Z",
     "iopub.status.idle": "2023-04-28T11:31:42.276652Z",
     "shell.execute_reply": "2023-04-28T11:31:42.275713Z",
     "shell.execute_reply.started": "2023-04-28T11:31:42.205009Z"
    },
    "id": "KFlX32E32b-h",
    "outputId": "5bba8fed-4c90-42e1-8119-e998b57ee8f7"
   },
   "outputs": [
    {
     "data": {
      "text/html": [
       "<div>\n",
       "<style scoped>\n",
       "    .dataframe tbody tr th:only-of-type {\n",
       "        vertical-align: middle;\n",
       "    }\n",
       "\n",
       "    .dataframe tbody tr th {\n",
       "        vertical-align: top;\n",
       "    }\n",
       "\n",
       "    .dataframe thead th {\n",
       "        text-align: right;\n",
       "    }\n",
       "</style>\n",
       "<table border=\"1\" class=\"dataframe\">\n",
       "  <thead>\n",
       "    <tr style=\"text-align: right;\">\n",
       "      <th></th>\n",
       "      <th>symbol</th>\n",
       "      <th>date</th>\n",
       "      <th>close</th>\n",
       "      <th>high</th>\n",
       "      <th>low</th>\n",
       "      <th>open</th>\n",
       "      <th>volume</th>\n",
       "      <th>adjClose</th>\n",
       "      <th>adjHigh</th>\n",
       "      <th>adjLow</th>\n",
       "      <th>adjOpen</th>\n",
       "      <th>adjVolume</th>\n",
       "      <th>divCash</th>\n",
       "      <th>splitFactor</th>\n",
       "    </tr>\n",
       "  </thead>\n",
       "  <tbody>\n",
       "    <tr>\n",
       "      <th>0</th>\n",
       "      <td>GOOG</td>\n",
       "      <td>2016-06-14 00:00:00+00:00</td>\n",
       "      <td>718.27</td>\n",
       "      <td>722.47</td>\n",
       "      <td>713.1200</td>\n",
       "      <td>716.48</td>\n",
       "      <td>1306065</td>\n",
       "      <td>718.27</td>\n",
       "      <td>722.47</td>\n",
       "      <td>713.1200</td>\n",
       "      <td>716.48</td>\n",
       "      <td>1306065</td>\n",
       "      <td>0.0</td>\n",
       "      <td>1.0</td>\n",
       "    </tr>\n",
       "    <tr>\n",
       "      <th>1</th>\n",
       "      <td>GOOG</td>\n",
       "      <td>2016-06-15 00:00:00+00:00</td>\n",
       "      <td>718.92</td>\n",
       "      <td>722.98</td>\n",
       "      <td>717.3100</td>\n",
       "      <td>719.00</td>\n",
       "      <td>1214517</td>\n",
       "      <td>718.92</td>\n",
       "      <td>722.98</td>\n",
       "      <td>717.3100</td>\n",
       "      <td>719.00</td>\n",
       "      <td>1214517</td>\n",
       "      <td>0.0</td>\n",
       "      <td>1.0</td>\n",
       "    </tr>\n",
       "    <tr>\n",
       "      <th>2</th>\n",
       "      <td>GOOG</td>\n",
       "      <td>2016-06-16 00:00:00+00:00</td>\n",
       "      <td>710.36</td>\n",
       "      <td>716.65</td>\n",
       "      <td>703.2600</td>\n",
       "      <td>714.91</td>\n",
       "      <td>1982471</td>\n",
       "      <td>710.36</td>\n",
       "      <td>716.65</td>\n",
       "      <td>703.2600</td>\n",
       "      <td>714.91</td>\n",
       "      <td>1982471</td>\n",
       "      <td>0.0</td>\n",
       "      <td>1.0</td>\n",
       "    </tr>\n",
       "    <tr>\n",
       "      <th>3</th>\n",
       "      <td>GOOG</td>\n",
       "      <td>2016-06-17 00:00:00+00:00</td>\n",
       "      <td>691.72</td>\n",
       "      <td>708.82</td>\n",
       "      <td>688.4515</td>\n",
       "      <td>708.65</td>\n",
       "      <td>3402357</td>\n",
       "      <td>691.72</td>\n",
       "      <td>708.82</td>\n",
       "      <td>688.4515</td>\n",
       "      <td>708.65</td>\n",
       "      <td>3402357</td>\n",
       "      <td>0.0</td>\n",
       "      <td>1.0</td>\n",
       "    </tr>\n",
       "    <tr>\n",
       "      <th>4</th>\n",
       "      <td>GOOG</td>\n",
       "      <td>2016-06-20 00:00:00+00:00</td>\n",
       "      <td>693.71</td>\n",
       "      <td>702.48</td>\n",
       "      <td>693.4100</td>\n",
       "      <td>698.77</td>\n",
       "      <td>2082538</td>\n",
       "      <td>693.71</td>\n",
       "      <td>702.48</td>\n",
       "      <td>693.4100</td>\n",
       "      <td>698.77</td>\n",
       "      <td>2082538</td>\n",
       "      <td>0.0</td>\n",
       "      <td>1.0</td>\n",
       "    </tr>\n",
       "  </tbody>\n",
       "</table>\n",
       "</div>"
      ],
      "text/plain": [
       "  symbol                       date   close    high       low    open  \\\n",
       "0   GOOG  2016-06-14 00:00:00+00:00  718.27  722.47  713.1200  716.48   \n",
       "1   GOOG  2016-06-15 00:00:00+00:00  718.92  722.98  717.3100  719.00   \n",
       "2   GOOG  2016-06-16 00:00:00+00:00  710.36  716.65  703.2600  714.91   \n",
       "3   GOOG  2016-06-17 00:00:00+00:00  691.72  708.82  688.4515  708.65   \n",
       "4   GOOG  2016-06-20 00:00:00+00:00  693.71  702.48  693.4100  698.77   \n",
       "\n",
       "    volume  adjClose  adjHigh    adjLow  adjOpen  adjVolume  divCash  \\\n",
       "0  1306065    718.27   722.47  713.1200   716.48    1306065      0.0   \n",
       "1  1214517    718.92   722.98  717.3100   719.00    1214517      0.0   \n",
       "2  1982471    710.36   716.65  703.2600   714.91    1982471      0.0   \n",
       "3  3402357    691.72   708.82  688.4515   708.65    3402357      0.0   \n",
       "4  2082538    693.71   702.48  693.4100   698.77    2082538      0.0   \n",
       "\n",
       "   splitFactor  \n",
       "0          1.0  \n",
       "1          1.0  \n",
       "2          1.0  \n",
       "3          1.0  \n",
       "4          1.0  "
      ]
     },
     "execution_count": 3,
     "metadata": {},
     "output_type": "execute_result"
    }
   ],
   "source": [
    "google_stock_data = pd.read_csv('../input/google-stock-prediction/GOOG.csv')\n",
    "google_stock_data.head()"
   ]
  },
  {
   "cell_type": "code",
   "execution_count": 4,
   "metadata": {
    "execution": {
     "iopub.execute_input": "2023-04-28T11:31:42.279541Z",
     "iopub.status.busy": "2023-04-28T11:31:42.279149Z",
     "iopub.status.idle": "2023-04-28T11:31:42.307677Z",
     "shell.execute_reply": "2023-04-28T11:31:42.306966Z",
     "shell.execute_reply.started": "2023-04-28T11:31:42.279495Z"
    },
    "id": "rD5muzWA2cBd",
    "outputId": "8a62ca3b-b1c7-4b31-d097-f2f6184e438f"
   },
   "outputs": [
    {
     "name": "stdout",
     "output_type": "stream",
     "text": [
      "<class 'pandas.core.frame.DataFrame'>\n",
      "RangeIndex: 1258 entries, 0 to 1257\n",
      "Data columns (total 14 columns):\n",
      " #   Column       Non-Null Count  Dtype  \n",
      "---  ------       --------------  -----  \n",
      " 0   symbol       1258 non-null   object \n",
      " 1   date         1258 non-null   object \n",
      " 2   close        1258 non-null   float64\n",
      " 3   high         1258 non-null   float64\n",
      " 4   low          1258 non-null   float64\n",
      " 5   open         1258 non-null   float64\n",
      " 6   volume       1258 non-null   int64  \n",
      " 7   adjClose     1258 non-null   float64\n",
      " 8   adjHigh      1258 non-null   float64\n",
      " 9   adjLow       1258 non-null   float64\n",
      " 10  adjOpen      1258 non-null   float64\n",
      " 11  adjVolume    1258 non-null   int64  \n",
      " 12  divCash      1258 non-null   float64\n",
      " 13  splitFactor  1258 non-null   float64\n",
      "dtypes: float64(10), int64(2), object(2)\n",
      "memory usage: 137.7+ KB\n"
     ]
    }
   ],
   "source": [
    "google_stock_data.info()"
   ]
  },
  {
   "cell_type": "code",
   "execution_count": 5,
   "metadata": {
    "execution": {
     "iopub.execute_input": "2023-04-28T11:31:42.309516Z",
     "iopub.status.busy": "2023-04-28T11:31:42.309051Z",
     "iopub.status.idle": "2023-04-28T11:31:42.331254Z",
     "shell.execute_reply": "2023-04-28T11:31:42.329843Z",
     "shell.execute_reply.started": "2023-04-28T11:31:42.309452Z"
    },
    "id": "KHpBg4KNnYJB",
    "outputId": "fa98ce9e-66be-478d-dfc5-677f214c2c78"
   },
   "outputs": [
    {
     "data": {
      "text/html": [
       "<div>\n",
       "<style scoped>\n",
       "    .dataframe tbody tr th:only-of-type {\n",
       "        vertical-align: middle;\n",
       "    }\n",
       "\n",
       "    .dataframe tbody tr th {\n",
       "        vertical-align: top;\n",
       "    }\n",
       "\n",
       "    .dataframe thead th {\n",
       "        text-align: right;\n",
       "    }\n",
       "</style>\n",
       "<table border=\"1\" class=\"dataframe\">\n",
       "  <thead>\n",
       "    <tr style=\"text-align: right;\">\n",
       "      <th></th>\n",
       "      <th>open</th>\n",
       "      <th>close</th>\n",
       "    </tr>\n",
       "    <tr>\n",
       "      <th>date</th>\n",
       "      <th></th>\n",
       "      <th></th>\n",
       "    </tr>\n",
       "  </thead>\n",
       "  <tbody>\n",
       "    <tr>\n",
       "      <th>2016-06-14</th>\n",
       "      <td>716.48</td>\n",
       "      <td>718.27</td>\n",
       "    </tr>\n",
       "    <tr>\n",
       "      <th>2016-06-15</th>\n",
       "      <td>719.00</td>\n",
       "      <td>718.92</td>\n",
       "    </tr>\n",
       "    <tr>\n",
       "      <th>2016-06-16</th>\n",
       "      <td>714.91</td>\n",
       "      <td>710.36</td>\n",
       "    </tr>\n",
       "    <tr>\n",
       "      <th>2016-06-17</th>\n",
       "      <td>708.65</td>\n",
       "      <td>691.72</td>\n",
       "    </tr>\n",
       "    <tr>\n",
       "      <th>2016-06-20</th>\n",
       "      <td>698.77</td>\n",
       "      <td>693.71</td>\n",
       "    </tr>\n",
       "  </tbody>\n",
       "</table>\n",
       "</div>"
      ],
      "text/plain": [
       "              open   close\n",
       "date                      \n",
       "2016-06-14  716.48  718.27\n",
       "2016-06-15  719.00  718.92\n",
       "2016-06-16  714.91  710.36\n",
       "2016-06-17  708.65  691.72\n",
       "2016-06-20  698.77  693.71"
      ]
     },
     "execution_count": 5,
     "metadata": {},
     "output_type": "execute_result"
    }
   ],
   "source": [
    "google_stock_data = google_stock_data[['date','open','close']] # Extracting required columns\n",
    "google_stock_data['date'] = pd.to_datetime(google_stock_data['date'].apply(lambda x: x.split()[0])) # Selecting only date\n",
    "google_stock_data.set_index('date',drop=True,inplace=True) # Setting date column as index\n",
    "google_stock_data.head()"
   ]
  },
  {
   "cell_type": "code",
   "execution_count": 6,
   "metadata": {
    "_kg_hide-input": true,
    "execution": {
     "iopub.execute_input": "2023-04-28T11:31:42.332874Z",
     "iopub.status.busy": "2023-04-28T11:31:42.332623Z",
     "iopub.status.idle": "2023-04-28T11:31:42.891036Z",
     "shell.execute_reply": "2023-04-28T11:31:42.889957Z",
     "shell.execute_reply.started": "2023-04-28T11:31:42.332846Z"
    },
    "id": "17mfyZrq2cE9",
    "outputId": "3967e04c-6b57-41fc-84dd-35eecfb15269"
   },
   "outputs": [
    {
     "data": {
      "image/png": "[encoded data removed]",
      "text/plain": [
       "<Figure size 1440x504 with 2 Axes>"
      ]
     },
     "metadata": {
      "needs_background": "light"
     },
     "output_type": "display_data"
    }
   ],
   "source": [
    "fg, ax =plt.subplots(1,2,figsize=(20,7))\n",
    "ax[0].plot(google_stock_data['open'],label='Open',color='green')\n",
    "ax[0].set_xlabel('Date',size=15)\n",
    "ax[0].set_ylabel('Price',size=15)\n",
    "ax[0].legend()\n",
    "\n",
    "ax[1].plot(google_stock_data['close'],label='Close',color='red')\n",
    "ax[1].set_xlabel('Date',size=15)\n",
    "ax[1].set_ylabel('Price',size=15)\n",
    "ax[1].legend()\n",
    "\n",
    "fg.show()"
   ]
  },
  {
   "cell_type": "code",
   "execution_count": 7,
   "metadata": {
    "execution": {
     "iopub.execute_input": "2023-04-28T11:31:42.892653Z",
     "iopub.status.busy": "2023-04-28T11:31:42.892386Z",
     "iopub.status.idle": "2023-04-28T11:31:43.914397Z",
     "shell.execute_reply": "2023-04-28T11:31:43.913423Z",
     "shell.execute_reply.started": "2023-04-28T11:31:42.892623Z"
    },
    "id": "XgHWQ2SK2cH4"
   },
   "outputs": [],
   "source": [
    "from sklearn.preprocessing import MinMaxScaler\n",
    "MMS = MinMaxScaler()\n",
    "google_stock_data[google_stock_data.columns] = MMS.fit_transform(google_stock_data)"
   ]
  },
  {
   "cell_type": "code",
   "execution_count": 8,
   "metadata": {
    "execution": {
     "iopub.execute_input": "2023-04-28T11:31:43.916016Z",
     "iopub.status.busy": "2023-04-28T11:31:43.915752Z",
     "iopub.status.idle": "2023-04-28T11:31:43.923137Z",
     "shell.execute_reply": "2023-04-28T11:31:43.922309Z",
     "shell.execute_reply.started": "2023-04-28T11:31:43.915984Z"
    },
    "id": "vUhYPfaR2cP0",
    "outputId": "8037611d-ad8d-4be7-ae8e-2482c6204932"
   },
   "outputs": [
    {
     "data": {
      "text/plain": [
       "(1258, 2)"
      ]
     },
     "execution_count": 8,
     "metadata": {},
     "output_type": "execute_result"
    }
   ],
   "source": [
    "google_stock_data.shape"
   ]
  },
  {
   "cell_type": "code",
   "execution_count": 9,
   "metadata": {
    "execution": {
     "iopub.execute_input": "2023-04-28T11:31:43.925648Z",
     "iopub.status.busy": "2023-04-28T11:31:43.925046Z",
     "iopub.status.idle": "2023-04-28T11:31:43.941348Z",
     "shell.execute_reply": "2023-04-28T11:31:43.940419Z",
     "shell.execute_reply.started": "2023-04-28T11:31:43.925604Z"
    },
    "id": "o4shudsl2cS3",
    "outputId": "885f7989-ad9c-4723-9626-54b58b382c1e"
   },
   "outputs": [
    {
     "data": {
      "text/plain": [
       "1006"
      ]
     },
     "execution_count": 9,
     "metadata": {},
     "output_type": "execute_result"
    }
   ],
   "source": [
    "training_size = round(len(google_stock_data) * 0.80) # Selecting 80 % for training and 20 % for testing\n",
    "training_size"
   ]
  },
  {
   "cell_type": "code",
   "execution_count": 10,
   "metadata": {
    "execution": {
     "iopub.execute_input": "2023-04-28T11:31:43.946212Z",
     "iopub.status.busy": "2023-04-28T11:31:43.945552Z",
     "iopub.status.idle": "2023-04-28T11:31:43.955844Z",
     "shell.execute_reply": "2023-04-28T11:31:43.954572Z",
     "shell.execute_reply.started": "2023-04-28T11:31:43.946165Z"
    },
    "id": "XWI_TMQC2cWB",
    "outputId": "1cf28a43-311a-4ef4-db20-d3f22c7ef51e"
   },
   "outputs": [
    {
     "data": {
      "text/plain": [
       "((1006, 2), (252, 2))"
      ]
     },
     "execution_count": 10,
     "metadata": {},
     "output_type": "execute_result"
    }
   ],
   "source": [
    "train_data = google_stock_data[:training_size]\n",
    "test_data  = google_stock_data[training_size:]\n",
    "\n",
    "train_data.shape, test_data.shape"
   ]
  },
  {
   "cell_type": "code",
   "execution_count": 11,
   "metadata": {
    "execution": {
     "iopub.execute_input": "2023-04-28T11:31:43.957620Z",
     "iopub.status.busy": "2023-04-28T11:31:43.957288Z",
     "iopub.status.idle": "2023-04-28T11:31:44.133010Z",
     "shell.execute_reply": "2023-04-28T11:31:44.131435Z",
     "shell.execute_reply.started": "2023-04-28T11:31:43.957588Z"
    },
    "id": "CqpXvPeD7zUY"
   },
   "outputs": [],
   "source": [
    "# Function to create sequence of data for training and testing\n",
    "\n",
    "def create_sequence(dataset):\n",
    "  sequences = []\n",
    "  labels = []\n",
    "\n",
    "  start_idx = 0\n",
    "\n",
    "  for stop_idx in range(50,len(dataset)): # Selecting 50 rows at a time\n",
    "    sequences.append(dataset.iloc[start_idx:stop_idx])\n",
    "    labels.append(dataset.iloc[stop_idx])\n",
    "    start_idx += 1\n",
    "  return (np.array(sequences),np.array(labels))\n"
   ]
  },
  {
   "cell_type": "code",
   "execution_count": 12,
   "metadata": {
    "execution": {
     "iopub.execute_input": "2023-04-28T11:31:44.134981Z",
     "iopub.status.busy": "2023-04-28T11:31:44.134296Z",
     "iopub.status.idle": "2023-04-28T11:31:44.364277Z",
     "shell.execute_reply": "2023-04-28T11:31:44.363049Z",
     "shell.execute_reply.started": "2023-04-28T11:31:44.134941Z"
    },
    "id": "xqkyw0e-7zW3"
   },
   "outputs": [],
   "source": [
    "train_seq, train_label = create_sequence(train_data)\n",
    "test_seq, test_label = create_sequence(test_data)"
   ]
  },
  {
   "cell_type": "code",
   "execution_count": 13,
   "metadata": {
    "execution": {
     "iopub.execute_input": "2023-04-28T11:31:44.366134Z",
     "iopub.status.busy": "2023-04-28T11:31:44.365890Z",
     "iopub.status.idle": "2023-04-28T11:31:44.372888Z",
     "shell.execute_reply": "2023-04-28T11:31:44.372219Z",
     "shell.execute_reply.started": "2023-04-28T11:31:44.366107Z"
    },
    "id": "ZpsCI6jf_oC2",
    "outputId": "1c0a74ae-8205-44a9-8748-18318845a365"
   },
   "outputs": [
    {
     "data": {
      "text/plain": [
       "((956, 50, 2), (956, 2), (202, 50, 2), (202, 2))"
      ]
     },
     "execution_count": 13,
     "metadata": {},
     "output_type": "execute_result"
    }
   ],
   "source": [
    "train_seq.shape, train_label.shape, test_seq.shape, test_label.shape"
   ]
  },
  {
   "cell_type": "code",
   "execution_count": 14,
   "metadata": {
    "execution": {
     "iopub.execute_input": "2023-04-28T11:31:44.375178Z",
     "iopub.status.busy": "2023-04-28T11:31:44.374055Z",
     "iopub.status.idle": "2023-04-28T11:31:51.482680Z",
     "shell.execute_reply": "2023-04-28T11:31:51.481440Z",
     "shell.execute_reply.started": "2023-04-28T11:31:44.375138Z"
    },
    "id": "etmB-Lbd7zZa"
   },
   "outputs": [],
   "source": [
    "from keras.models import Sequential\n",
    "from keras.layers import Dense, Dropout, LSTM, Bidirectional"
   ]
  },
  {
   "cell_type": "code",
   "execution_count": 15,
   "metadata": {
    "execution": {
     "iopub.execute_input": "2023-04-28T11:31:51.484896Z",
     "iopub.status.busy": "2023-04-28T11:31:51.484604Z",
     "iopub.status.idle": "2023-04-28T11:31:52.248074Z",
     "shell.execute_reply": "2023-04-28T11:31:52.246743Z",
     "shell.execute_reply.started": "2023-04-28T11:31:51.484865Z"
    },
    "id": "FntEHOeG7zcE",
    "outputId": "870dc502-f598-4826-ef48-25724058761d"
   },
   "outputs": [
    {
     "name": "stderr",
     "output_type": "stream",
     "text": [
      "\n",
      "User settings:\n",
      "\n",
      "   KMP_AFFINITY=granularity=fine,verbose,compact,1,0\n",
      "   KMP_BLOCKTIME=0\n",
      "   KMP_DUPLICATE_LIB_OK=True\n",
      "   KMP_INIT_AT_FORK=FALSE\n",
      "   KMP_SETTINGS=1\n",
      "   KMP_WARNINGS=0\n",
      "\n",
      "Effective settings:\n",
      "\n",
      "   KMP_ABORT_DELAY=0\n",
      "   KMP_ADAPTIVE_LOCK_PROPS='1,1024'\n",
      "   KMP_ALIGN_ALLOC=64\n",
      "   KMP_ALL_THREADPRIVATE=128\n",
      "   KMP_ATOMIC_MODE=2\n",
      "   KMP_BLOCKTIME=0\n",
      "   KMP_CPUINFO_FILE: value is not defined\n",
      "   KMP_DETERMINISTIC_REDUCTION=false\n",
      "   KMP_DEVICE_THREAD_LIMIT=2147483647\n",
      "   KMP_DISP_NUM_BUFFERS=7\n",
      "   KMP_DUPLICATE_LIB_OK=true\n",
      "   KMP_ENABLE_TASK_THROTTLING=true\n",
      "   KMP_FORCE_REDUCTION: value is not defined\n",
      "   KMP_FOREIGN_THREADS_THREADPRIVATE=true\n",
      "   KMP_FORKJOIN_BARRIER='2,2'\n",
      "   KMP_FORKJOIN_BARRIER_PATTERN='hyper,hyper'\n",
      "   KMP_GTID_MODE=3\n",
      "   KMP_HANDLE_SIGNALS=false\n",
      "   KMP_HOT_TEAMS_MAX_LEVEL=1\n",
      "   KMP_HOT_TEAMS_MODE=0\n",
      "   KMP_INIT_AT_FORK=true\n",
      "   KMP_LIBRARY=throughput\n",
      "   KMP_LOCK_KIND=queuing\n",
      "   KMP_MALLOC_POOL_INCR=1M\n",
      "   KMP_NUM_LOCKS_IN_BLOCK=1\n",
      "   KMP_PLAIN_BARRIER='2,2'\n",
      "   KMP_PLAIN_BARRIER_PATTERN='hyper,hyper'\n",
      "   KMP_REDUCTION_BARRIER='1,1'\n",
      "   KMP_REDUCTION_BARRIER_PATTERN='hyper,hyper'\n",
      "   KMP_SCHEDULE='static,balanced;guided,iterative'\n",
      "   KMP_SETTINGS=true\n",
      "   KMP_SPIN_BACKOFF_PARAMS='4096,100'\n",
      "   KMP_STACKOFFSET=64\n",
      "   KMP_STACKPAD=0\n",
      "   KMP_STACKSIZE=8M\n",
      "   KMP_STORAGE_MAP=false\n",
      "   KMP_TASKING=2\n",
      "   KMP_TASKLOOP_MIN_TASKS=0\n",
      "   KMP_TASK_STEALING_CONSTRAINT=1\n",
      "   KMP_TEAMS_THREAD_LIMIT=4\n",
      "   KMP_TOPOLOGY_METHOD=all\n",
      "   KMP_USE_YIELD=1\n",
      "   KMP_VERSION=false\n",
      "   KMP_WARNINGS=false\n",
      "   OMP_AFFINITY_FORMAT='OMP: pid %P tid %i thread %n bound to OS proc set {%A}'\n",
      "   OMP_ALLOCATOR=omp_default_mem_alloc\n",
      "   OMP_CANCELLATION=false\n",
      "   OMP_DEFAULT_DEVICE=0\n",
      "   OMP_DISPLAY_AFFINITY=false\n",
      "   OMP_DISPLAY_ENV=false\n",
      "   OMP_DYNAMIC=false\n",
      "   OMP_MAX_ACTIVE_LEVELS=1\n",
      "   OMP_MAX_TASK_PRIORITY=0\n",
      "   OMP_NESTED: deprecated; max-active-levels-var=1\n",
      "   OMP_NUM_THREADS: value is not defined\n",
      "   OMP_PLACES: value is not defined\n",
      "   OMP_PROC_BIND='intel'\n",
      "   OMP_SCHEDULE='static'\n",
      "   OMP_STACKSIZE=8M\n",
      "   OMP_TARGET_OFFLOAD=DEFAULT\n",
      "   OMP_THREAD_LIMIT=2147483647\n",
      "   OMP_WAIT_POLICY=PASSIVE\n",
      "   KMP_AFFINITY='verbose,warnings,respect,granularity=fine,compact,1,0'\n",
      "\n"
     ]
    },
    {
     "name": "stdout",
     "output_type": "stream",
     "text": [
      "Model: \"sequential\"\n",
      "_________________________________________________________________\n",
      "Layer (type)                 Output Shape              Param #   \n",
      "=================================================================\n",
      "lstm (LSTM)                  (None, 50, 50)            10600     \n",
      "_________________________________________________________________\n",
      "dropout (Dropout)            (None, 50, 50)            0         \n",
      "_________________________________________________________________\n",
      "lstm_1 (LSTM)                (None, 50)                20200     \n",
      "_________________________________________________________________\n",
      "dense (Dense)                (None, 2)                 102       \n",
      "=================================================================\n",
      "Total params: 30,902\n",
      "Trainable params: 30,902\n",
      "Non-trainable params: 0\n",
      "_________________________________________________________________\n"
     ]
    }
   ],
   "source": [
    "model = Sequential()\n",
    "model.add(LSTM(units=50, return_sequences=True, input_shape = (train_seq.shape[1], train_seq.shape[2])))\n",
    "\n",
    "model.add(Dropout(0.1)) \n",
    "model.add(LSTM(units=50))\n",
    "\n",
    "model.add(Dense(2))\n",
    "\n",
    "model.compile(loss='mean_squared_error', optimizer='adam', metrics=['mean_absolute_error'])\n",
    "\n",
    "model.summary()"
   ]
  },
  {
   "cell_type": "code",
   "execution_count": 16,
   "metadata": {
    "_kg_hide-output": true,
    "execution": {
     "iopub.execute_input": "2023-04-28T11:31:52.251177Z",
     "iopub.status.busy": "2023-04-28T11:31:52.250753Z",
     "iopub.status.idle": "2023-04-28T11:35:43.550973Z",
     "shell.execute_reply": "2023-04-28T11:35:43.550100Z",
     "shell.execute_reply.started": "2023-04-28T11:31:52.251113Z"
    },
    "id": "5sFY8gn97zeC",
    "outputId": "2ee9dfaf-e6de-4f98-bd24-fedc69f238b5"
   },
   "outputs": [
    {
     "name": "stdout",
     "output_type": "stream",
     "text": [
      "Epoch 1/80\n",
      "30/30 [==============================] - 9s 135ms/step - loss: 0.0064 - mean_absolute_error: 0.0575 - val_loss: 0.0143 - val_mean_absolute_error: 0.0983\n",
      "Epoch 2/80\n",
      "30/30 [==============================] - 3s 92ms/step - loss: 8.8044e-04 - mean_absolute_error: 0.0230 - val_loss: 0.0104 - val_mean_absolute_error: 0.0845\n",
      "Epoch 3/80\n",
      "30/30 [==============================] - 3s 91ms/step - loss: 5.5931e-04 - mean_absolute_error: 0.0171 - val_loss: 0.0036 - val_mean_absolute_error: 0.0476\n",
      "Epoch 4/80\n",
      "30/30 [==============================] - 3s 94ms/step - loss: 5.2730e-04 - mean_absolute_error: 0.0164 - val_loss: 0.0040 - val_mean_absolute_error: 0.0511\n",
      "Epoch 5/80\n",
      "30/30 [==============================] - 3s 92ms/step - loss: 4.9420e-04 - mean_absolute_error: 0.0158 - val_loss: 0.0042 - val_mean_absolute_error: 0.0524\n",
      "Epoch 6/80\n",
      "30/30 [==============================] - 3s 93ms/step - loss: 5.1899e-04 - mean_absolute_error: 0.0162 - val_loss: 0.0038 - val_mean_absolute_error: 0.0499\n",
      "Epoch 7/80\n",
      "30/30 [==============================] - 3s 92ms/step - loss: 4.6819e-04 - mean_absolute_error: 0.0157 - val_loss: 0.0022 - val_mean_absolute_error: 0.0368\n",
      "Epoch 8/80\n",
      "30/30 [==============================] - 3s 94ms/step - loss: 4.3805e-04 - mean_absolute_error: 0.0146 - val_loss: 0.0059 - val_mean_absolute_error: 0.0656\n",
      "Epoch 9/80\n",
      "30/30 [==============================] - 3s 93ms/step - loss: 4.2113e-04 - mean_absolute_error: 0.0150 - val_loss: 0.0026 - val_mean_absolute_error: 0.0397\n",
      "Epoch 10/80\n",
      "30/30 [==============================] - 3s 113ms/step - loss: 3.9513e-04 - mean_absolute_error: 0.0146 - val_loss: 0.0040 - val_mean_absolute_error: 0.0518\n",
      "Epoch 11/80\n",
      "30/30 [==============================] - 3s 93ms/step - loss: 3.7267e-04 - mean_absolute_error: 0.0140 - val_loss: 0.0048 - val_mean_absolute_error: 0.0574\n",
      "Epoch 12/80\n",
      "30/30 [==============================] - 3s 92ms/step - loss: 3.9640e-04 - mean_absolute_error: 0.0145 - val_loss: 0.0060 - val_mean_absolute_error: 0.0646\n",
      "Epoch 13/80\n",
      "30/30 [==============================] - 3s 92ms/step - loss: 3.6565e-04 - mean_absolute_error: 0.0141 - val_loss: 0.0039 - val_mean_absolute_error: 0.0513\n",
      "Epoch 14/80\n",
      "30/30 [==============================] - 3s 91ms/step - loss: 3.4804e-04 - mean_absolute_error: 0.0136 - val_loss: 0.0069 - val_mean_absolute_error: 0.0707\n",
      "Epoch 15/80\n",
      "30/30 [==============================] - 3s 92ms/step - loss: 3.2937e-04 - mean_absolute_error: 0.0132 - val_loss: 0.0063 - val_mean_absolute_error: 0.0664\n",
      "Epoch 16/80\n",
      "30/30 [==============================] - 3s 93ms/step - loss: 3.3276e-04 - mean_absolute_error: 0.0135 - val_loss: 0.0092 - val_mean_absolute_error: 0.0821\n",
      "Epoch 17/80\n",
      "30/30 [==============================] - 3s 91ms/step - loss: 3.3171e-04 - mean_absolute_error: 0.0135 - val_loss: 0.0077 - val_mean_absolute_error: 0.0742\n",
      "Epoch 18/80\n",
      "30/30 [==============================] - 3s 93ms/step - loss: 3.5233e-04 - mean_absolute_error: 0.0138 - val_loss: 0.0040 - val_mean_absolute_error: 0.0502\n",
      "Epoch 19/80\n",
      "30/30 [==============================] - 3s 94ms/step - loss: 3.3100e-04 - mean_absolute_error: 0.0136 - val_loss: 0.0087 - val_mean_absolute_error: 0.0772\n",
      "Epoch 20/80\n",
      "30/30 [==============================] - 3s 93ms/step - loss: 3.3030e-04 - mean_absolute_error: 0.0136 - val_loss: 0.0065 - val_mean_absolute_error: 0.0680\n",
      "Epoch 21/80\n",
      "30/30 [==============================] - 3s 107ms/step - loss: 3.0498e-04 - mean_absolute_error: 0.0131 - val_loss: 0.0065 - val_mean_absolute_error: 0.0676\n",
      "Epoch 22/80\n",
      "30/30 [==============================] - 3s 93ms/step - loss: 2.9998e-04 - mean_absolute_error: 0.0126 - val_loss: 0.0052 - val_mean_absolute_error: 0.0590\n",
      "Epoch 23/80\n",
      "30/30 [==============================] - 3s 94ms/step - loss: 3.0632e-04 - mean_absolute_error: 0.0127 - val_loss: 0.0089 - val_mean_absolute_error: 0.0808\n",
      "Epoch 24/80\n",
      "30/30 [==============================] - 3s 91ms/step - loss: 3.0392e-04 - mean_absolute_error: 0.0127 - val_loss: 0.0088 - val_mean_absolute_error: 0.0795\n",
      "Epoch 25/80\n",
      "30/30 [==============================] - 3s 92ms/step - loss: 2.7691e-04 - mean_absolute_error: 0.0124 - val_loss: 0.0066 - val_mean_absolute_error: 0.0669\n",
      "Epoch 26/80\n",
      "30/30 [==============================] - 3s 92ms/step - loss: 3.1312e-04 - mean_absolute_error: 0.0131 - val_loss: 0.0071 - val_mean_absolute_error: 0.0690\n",
      "Epoch 27/80\n",
      "30/30 [==============================] - 3s 95ms/step - loss: 2.7826e-04 - mean_absolute_error: 0.0123 - val_loss: 0.0086 - val_mean_absolute_error: 0.0782\n",
      "Epoch 28/80\n",
      "30/30 [==============================] - 3s 91ms/step - loss: 2.7866e-04 - mean_absolute_error: 0.0122 - val_loss: 0.0074 - val_mean_absolute_error: 0.0702\n",
      "Epoch 29/80\n",
      "30/30 [==============================] - 3s 92ms/step - loss: 2.7260e-04 - mean_absolute_error: 0.0122 - val_loss: 0.0040 - val_mean_absolute_error: 0.0491\n",
      "Epoch 30/80\n",
      "30/30 [==============================] - 3s 90ms/step - loss: 2.6439e-04 - mean_absolute_error: 0.0119 - val_loss: 0.0072 - val_mean_absolute_error: 0.0709\n",
      "Epoch 31/80\n",
      "30/30 [==============================] - 3s 92ms/step - loss: 2.5743e-04 - mean_absolute_error: 0.0119 - val_loss: 0.0033 - val_mean_absolute_error: 0.0447\n",
      "Epoch 32/80\n",
      "30/30 [==============================] - 3s 90ms/step - loss: 2.5562e-04 - mean_absolute_error: 0.0117 - val_loss: 0.0050 - val_mean_absolute_error: 0.0583\n",
      "Epoch 33/80\n",
      "30/30 [==============================] - 3s 114ms/step - loss: 2.5582e-04 - mean_absolute_error: 0.0117 - val_loss: 0.0052 - val_mean_absolute_error: 0.0581\n",
      "Epoch 34/80\n",
      "30/30 [==============================] - 3s 93ms/step - loss: 2.5513e-04 - mean_absolute_error: 0.0117 - val_loss: 0.0050 - val_mean_absolute_error: 0.0586\n",
      "Epoch 35/80\n",
      "30/30 [==============================] - 3s 97ms/step - loss: 2.4784e-04 - mean_absolute_error: 0.0116 - val_loss: 0.0038 - val_mean_absolute_error: 0.0487\n",
      "Epoch 36/80\n",
      "30/30 [==============================] - 3s 92ms/step - loss: 2.3701e-04 - mean_absolute_error: 0.0113 - val_loss: 0.0053 - val_mean_absolute_error: 0.0583\n",
      "Epoch 37/80\n",
      "30/30 [==============================] - 3s 92ms/step - loss: 2.4213e-04 - mean_absolute_error: 0.0115 - val_loss: 0.0074 - val_mean_absolute_error: 0.0725\n",
      "Epoch 38/80\n",
      "30/30 [==============================] - 3s 92ms/step - loss: 2.6493e-04 - mean_absolute_error: 0.0118 - val_loss: 0.0042 - val_mean_absolute_error: 0.0524\n",
      "Epoch 39/80\n",
      "30/30 [==============================] - 3s 93ms/step - loss: 2.3702e-04 - mean_absolute_error: 0.0112 - val_loss: 0.0032 - val_mean_absolute_error: 0.0455\n",
      "Epoch 40/80\n",
      "30/30 [==============================] - 3s 91ms/step - loss: 2.3839e-04 - mean_absolute_error: 0.0114 - val_loss: 0.0070 - val_mean_absolute_error: 0.0713\n",
      "Epoch 41/80\n",
      "30/30 [==============================] - 3s 91ms/step - loss: 2.4253e-04 - mean_absolute_error: 0.0114 - val_loss: 0.0032 - val_mean_absolute_error: 0.0444\n",
      "Epoch 42/80\n",
      "30/30 [==============================] - 3s 91ms/step - loss: 2.4403e-04 - mean_absolute_error: 0.0117 - val_loss: 0.0039 - val_mean_absolute_error: 0.0518\n",
      "Epoch 43/80\n",
      "30/30 [==============================] - 3s 94ms/step - loss: 2.3457e-04 - mean_absolute_error: 0.0112 - val_loss: 0.0035 - val_mean_absolute_error: 0.0490\n",
      "Epoch 44/80\n",
      "30/30 [==============================] - 3s 111ms/step - loss: 2.1509e-04 - mean_absolute_error: 0.0109 - val_loss: 0.0032 - val_mean_absolute_error: 0.0456\n",
      "Epoch 45/80\n",
      "30/30 [==============================] - 3s 92ms/step - loss: 2.2609e-04 - mean_absolute_error: 0.0109 - val_loss: 0.0045 - val_mean_absolute_error: 0.0553\n",
      "Epoch 46/80\n",
      "30/30 [==============================] - 3s 91ms/step - loss: 2.3429e-04 - mean_absolute_error: 0.0112 - val_loss: 0.0051 - val_mean_absolute_error: 0.0593\n",
      "Epoch 47/80\n",
      "30/30 [==============================] - 3s 94ms/step - loss: 2.1264e-04 - mean_absolute_error: 0.0106 - val_loss: 0.0056 - val_mean_absolute_error: 0.0632\n",
      "Epoch 48/80\n",
      "30/30 [==============================] - 3s 91ms/step - loss: 2.1346e-04 - mean_absolute_error: 0.0109 - val_loss: 0.0029 - val_mean_absolute_error: 0.0433\n",
      "Epoch 49/80\n",
      "30/30 [==============================] - 3s 92ms/step - loss: 2.3002e-04 - mean_absolute_error: 0.0111 - val_loss: 0.0037 - val_mean_absolute_error: 0.0508\n",
      "Epoch 50/80\n",
      "30/30 [==============================] - 3s 91ms/step - loss: 2.0724e-04 - mean_absolute_error: 0.0105 - val_loss: 0.0029 - val_mean_absolute_error: 0.0429\n",
      "Epoch 51/80\n",
      "30/30 [==============================] - 3s 94ms/step - loss: 2.0046e-04 - mean_absolute_error: 0.0103 - val_loss: 0.0076 - val_mean_absolute_error: 0.0743\n",
      "Epoch 52/80\n",
      "30/30 [==============================] - 3s 92ms/step - loss: 2.0526e-04 - mean_absolute_error: 0.0103 - val_loss: 0.0035 - val_mean_absolute_error: 0.0483\n",
      "Epoch 53/80\n",
      "30/30 [==============================] - 3s 92ms/step - loss: 2.1726e-04 - mean_absolute_error: 0.0108 - val_loss: 0.0032 - val_mean_absolute_error: 0.0460\n",
      "Epoch 54/80\n",
      "30/30 [==============================] - 3s 92ms/step - loss: 1.9161e-04 - mean_absolute_error: 0.0102 - val_loss: 0.0039 - val_mean_absolute_error: 0.0521\n",
      "Epoch 55/80\n",
      "30/30 [==============================] - 3s 113ms/step - loss: 2.0661e-04 - mean_absolute_error: 0.0105 - val_loss: 0.0018 - val_mean_absolute_error: 0.0330\n",
      "Epoch 56/80\n",
      "30/30 [==============================] - 3s 91ms/step - loss: 1.9599e-04 - mean_absolute_error: 0.0101 - val_loss: 0.0019 - val_mean_absolute_error: 0.0355\n",
      "Epoch 57/80\n",
      "30/30 [==============================] - 3s 92ms/step - loss: 1.9554e-04 - mean_absolute_error: 0.0104 - val_loss: 0.0023 - val_mean_absolute_error: 0.0394\n",
      "Epoch 58/80\n",
      "30/30 [==============================] - 3s 95ms/step - loss: 1.7816e-04 - mean_absolute_error: 0.0097 - val_loss: 0.0012 - val_mean_absolute_error: 0.0269\n",
      "Epoch 59/80\n",
      "30/30 [==============================] - 3s 92ms/step - loss: 1.9203e-04 - mean_absolute_error: 0.0101 - val_loss: 0.0027 - val_mean_absolute_error: 0.0432\n",
      "Epoch 60/80\n",
      "30/30 [==============================] - 3s 93ms/step - loss: 1.9042e-04 - mean_absolute_error: 0.0100 - val_loss: 0.0016 - val_mean_absolute_error: 0.0312\n",
      "Epoch 61/80\n",
      "30/30 [==============================] - 3s 92ms/step - loss: 1.8726e-04 - mean_absolute_error: 0.0099 - val_loss: 8.7062e-04 - val_mean_absolute_error: 0.0224\n",
      "Epoch 62/80\n",
      "30/30 [==============================] - 3s 94ms/step - loss: 1.7180e-04 - mean_absolute_error: 0.0096 - val_loss: 7.4710e-04 - val_mean_absolute_error: 0.0209\n",
      "Epoch 63/80\n",
      "30/30 [==============================] - 3s 92ms/step - loss: 1.7924e-04 - mean_absolute_error: 0.0098 - val_loss: 0.0017 - val_mean_absolute_error: 0.0328\n",
      "Epoch 64/80\n",
      "30/30 [==============================] - 3s 88ms/step - loss: 1.7646e-04 - mean_absolute_error: 0.0095 - val_loss: 0.0014 - val_mean_absolute_error: 0.0299\n",
      "Epoch 65/80\n",
      "30/30 [==============================] - 3s 89ms/step - loss: 1.7595e-04 - mean_absolute_error: 0.0095 - val_loss: 0.0019 - val_mean_absolute_error: 0.0357\n",
      "Epoch 66/80\n",
      "30/30 [==============================] - 3s 115ms/step - loss: 1.7597e-04 - mean_absolute_error: 0.0098 - val_loss: 0.0024 - val_mean_absolute_error: 0.0394\n",
      "Epoch 67/80\n",
      "30/30 [==============================] - 3s 92ms/step - loss: 1.8044e-04 - mean_absolute_error: 0.0097 - val_loss: 0.0014 - val_mean_absolute_error: 0.0296\n",
      "Epoch 68/80\n",
      "30/30 [==============================] - 3s 93ms/step - loss: 1.7712e-04 - mean_absolute_error: 0.0097 - val_loss: 0.0013 - val_mean_absolute_error: 0.0281\n",
      "Epoch 69/80\n",
      "30/30 [==============================] - 3s 92ms/step - loss: 1.6601e-04 - mean_absolute_error: 0.0093 - val_loss: 0.0012 - val_mean_absolute_error: 0.0272\n",
      "Epoch 70/80\n",
      "30/30 [==============================] - 3s 95ms/step - loss: 1.4993e-04 - mean_absolute_error: 0.0090 - val_loss: 0.0016 - val_mean_absolute_error: 0.0327\n",
      "Epoch 71/80\n",
      "30/30 [==============================] - 3s 92ms/step - loss: 1.5541e-04 - mean_absolute_error: 0.0089 - val_loss: 0.0040 - val_mean_absolute_error: 0.0540\n",
      "Epoch 72/80\n",
      "30/30 [==============================] - 3s 90ms/step - loss: 1.5486e-04 - mean_absolute_error: 0.0090 - val_loss: 0.0012 - val_mean_absolute_error: 0.0270\n",
      "Epoch 73/80\n",
      "30/30 [==============================] - 3s 91ms/step - loss: 1.5934e-04 - mean_absolute_error: 0.0090 - val_loss: 0.0033 - val_mean_absolute_error: 0.0477\n",
      "Epoch 74/80\n",
      "30/30 [==============================] - 3s 94ms/step - loss: 1.4395e-04 - mean_absolute_error: 0.0086 - val_loss: 0.0030 - val_mean_absolute_error: 0.0458\n",
      "Epoch 75/80\n",
      "30/30 [==============================] - 3s 91ms/step - loss: 1.5066e-04 - mean_absolute_error: 0.0091 - val_loss: 0.0013 - val_mean_absolute_error: 0.0276\n",
      "Epoch 76/80\n",
      "30/30 [==============================] - 3s 91ms/step - loss: 1.7710e-04 - mean_absolute_error: 0.0095 - val_loss: 0.0061 - val_mean_absolute_error: 0.0678\n",
      "Epoch 77/80\n",
      "30/30 [==============================] - 3s 95ms/step - loss: 1.9522e-04 - mean_absolute_error: 0.0103 - val_loss: 0.0013 - val_mean_absolute_error: 0.0277\n",
      "Epoch 78/80\n",
      "30/30 [==============================] - 3s 109ms/step - loss: 1.5685e-04 - mean_absolute_error: 0.0091 - val_loss: 0.0012 - val_mean_absolute_error: 0.0269\n",
      "Epoch 79/80\n",
      "30/30 [==============================] - 3s 90ms/step - loss: 1.5766e-04 - mean_absolute_error: 0.0090 - val_loss: 0.0035 - val_mean_absolute_error: 0.0491\n",
      "Epoch 80/80\n",
      "30/30 [==============================] - 3s 94ms/step - loss: 1.5221e-04 - mean_absolute_error: 0.0089 - val_loss: 0.0034 - val_mean_absolute_error: 0.0467\n"
     ]
    },
    {
     "data": {
      "text/plain": [
       "<keras.callbacks.History at 0x78544c4fb110>"
      ]
     },
     "execution_count": 16,
     "metadata": {},
     "output_type": "execute_result"
    }
   ],
   "source": [
    "model.fit(train_seq, train_label, epochs=80,validation_data=(test_seq, test_label), verbose=1)"
   ]
  },
  {
   "cell_type": "code",
   "execution_count": 17,
   "metadata": {
    "execution": {
     "iopub.execute_input": "2023-04-28T11:35:43.552749Z",
     "iopub.status.busy": "2023-04-28T11:35:43.552324Z",
     "iopub.status.idle": "2023-04-28T11:35:44.676016Z",
     "shell.execute_reply": "2023-04-28T11:35:44.675096Z",
     "shell.execute_reply.started": "2023-04-28T11:35:43.552717Z"
    },
    "id": "UPkxNcyo7zgX",
    "outputId": "8e246086-8b8b-4834-ce91-54333b128398"
   },
   "outputs": [
    {
     "data": {
      "text/plain": [
       "array([[0.48360243, 0.48433936],\n",
       "       [0.49015552, 0.49073827],\n",
       "       [0.49493864, 0.49522066],\n",
       "       [0.50952876, 0.5092658 ],\n",
       "       [0.5201375 , 0.519622  ]], dtype=float32)"
      ]
     },
     "execution_count": 17,
     "metadata": {},
     "output_type": "execute_result"
    }
   ],
   "source": [
    "test_predicted = model.predict(test_seq)\n",
    "test_predicted[:5]"
   ]
  },
  {
   "cell_type": "code",
   "execution_count": 18,
   "metadata": {
    "execution": {
     "iopub.execute_input": "2023-04-28T11:35:44.677821Z",
     "iopub.status.busy": "2023-04-28T11:35:44.677535Z",
     "iopub.status.idle": "2023-04-28T11:35:44.686819Z",
     "shell.execute_reply": "2023-04-28T11:35:44.685713Z",
     "shell.execute_reply.started": "2023-04-28T11:35:44.677788Z"
    },
    "id": "DvRmpGcwLPhu",
    "outputId": "5a6b4974-370f-440d-bf4b-ca2d17b51f83"
   },
   "outputs": [
    {
     "data": {
      "text/plain": [
       "array([[1567.5602, 1565.9055],\n",
       "       [1579.7091, 1577.7649],\n",
       "       [1588.5767, 1586.0723],\n",
       "       [1615.6256, 1612.1027],\n",
       "       [1635.2933, 1631.2964]], dtype=float32)"
      ]
     },
     "execution_count": 18,
     "metadata": {},
     "output_type": "execute_result"
    }
   ],
   "source": [
    "test_inverse_predicted = MMS.inverse_transform(test_predicted) # Inversing scaling on predicted data\n",
    "test_inverse_predicted[:5]"
   ]
  },
  {
   "cell_type": "code",
   "execution_count": 19,
   "metadata": {
    "execution": {
     "iopub.execute_input": "2023-04-28T11:35:44.689343Z",
     "iopub.status.busy": "2023-04-28T11:35:44.688411Z",
     "iopub.status.idle": "2023-04-28T11:35:44.701006Z",
     "shell.execute_reply": "2023-04-28T11:35:44.699968Z",
     "shell.execute_reply.started": "2023-04-28T11:35:44.689302Z"
    },
    "id": "7KWDJaXAL8RT"
   },
   "outputs": [],
   "source": [
    "# Merging actual and predicted data for better visualization\n",
    "\n",
    "gs_slic_data = pd.concat([google_stock_data.iloc[-202:].copy(),pd.DataFrame(test_inverse_predicted,columns=['open_predicted','close_predicted'],index=google_stock_data.iloc[-202:].index)], axis=1)"
   ]
  },
  {
   "cell_type": "code",
   "execution_count": 20,
   "metadata": {
    "execution": {
     "iopub.execute_input": "2023-04-28T11:35:44.703721Z",
     "iopub.status.busy": "2023-04-28T11:35:44.702486Z",
     "iopub.status.idle": "2023-04-28T11:35:44.717285Z",
     "shell.execute_reply": "2023-04-28T11:35:44.716456Z",
     "shell.execute_reply.started": "2023-04-28T11:35:44.703654Z"
    },
    "id": "VhQ1_JnJ0oYE"
   },
   "outputs": [],
   "source": [
    "gs_slic_data[['open','close']] = MMS.inverse_transform(gs_slic_data[['open','close']]) # Inverse scaling"
   ]
  },
  {
   "cell_type": "code",
   "execution_count": 21,
   "metadata": {
    "execution": {
     "iopub.execute_input": "2023-04-28T11:35:44.719561Z",
     "iopub.status.busy": "2023-04-28T11:35:44.718939Z",
     "iopub.status.idle": "2023-04-28T11:35:44.738875Z",
     "shell.execute_reply": "2023-04-28T11:35:44.738118Z",
     "shell.execute_reply.started": "2023-04-28T11:35:44.719510Z"
    },
    "id": "M1fsx6gTO3io",
    "outputId": "7b5be0fb-8fab-44ca-9346-4163a6536d26"
   },
   "outputs": [
    {
     "data": {
      "text/html": [
       "<div>\n",
       "<style scoped>\n",
       "    .dataframe tbody tr th:only-of-type {\n",
       "        vertical-align: middle;\n",
       "    }\n",
       "\n",
       "    .dataframe tbody tr th {\n",
       "        vertical-align: top;\n",
       "    }\n",
       "\n",
       "    .dataframe thead th {\n",
       "        text-align: right;\n",
       "    }\n",
       "</style>\n",
       "<table border=\"1\" class=\"dataframe\">\n",
       "  <thead>\n",
       "    <tr style=\"text-align: right;\">\n",
       "      <th></th>\n",
       "      <th>open</th>\n",
       "      <th>close</th>\n",
       "      <th>open_predicted</th>\n",
       "      <th>close_predicted</th>\n",
       "    </tr>\n",
       "    <tr>\n",
       "      <th>date</th>\n",
       "      <th></th>\n",
       "      <th></th>\n",
       "      <th></th>\n",
       "      <th></th>\n",
       "    </tr>\n",
       "  </thead>\n",
       "  <tbody>\n",
       "    <tr>\n",
       "      <th>2020-08-24</th>\n",
       "      <td>1593.98</td>\n",
       "      <td>1588.20</td>\n",
       "      <td>1567.560181</td>\n",
       "      <td>1565.905518</td>\n",
       "    </tr>\n",
       "    <tr>\n",
       "      <th>2020-08-25</th>\n",
       "      <td>1582.07</td>\n",
       "      <td>1608.22</td>\n",
       "      <td>1579.709106</td>\n",
       "      <td>1577.764893</td>\n",
       "    </tr>\n",
       "    <tr>\n",
       "      <th>2020-08-26</th>\n",
       "      <td>1608.00</td>\n",
       "      <td>1652.38</td>\n",
       "      <td>1588.576660</td>\n",
       "      <td>1586.072266</td>\n",
       "    </tr>\n",
       "    <tr>\n",
       "      <th>2020-08-27</th>\n",
       "      <td>1653.68</td>\n",
       "      <td>1634.33</td>\n",
       "      <td>1615.625610</td>\n",
       "      <td>1612.102661</td>\n",
       "    </tr>\n",
       "    <tr>\n",
       "      <th>2020-08-28</th>\n",
       "      <td>1633.49</td>\n",
       "      <td>1644.41</td>\n",
       "      <td>1635.293335</td>\n",
       "      <td>1631.296387</td>\n",
       "    </tr>\n",
       "  </tbody>\n",
       "</table>\n",
       "</div>"
      ],
      "text/plain": [
       "               open    close  open_predicted  close_predicted\n",
       "date                                                         \n",
       "2020-08-24  1593.98  1588.20     1567.560181      1565.905518\n",
       "2020-08-25  1582.07  1608.22     1579.709106      1577.764893\n",
       "2020-08-26  1608.00  1652.38     1588.576660      1586.072266\n",
       "2020-08-27  1653.68  1634.33     1615.625610      1612.102661\n",
       "2020-08-28  1633.49  1644.41     1635.293335      1631.296387"
      ]
     },
     "execution_count": 21,
     "metadata": {},
     "output_type": "execute_result"
    }
   ],
   "source": [
    "gs_slic_data.head()"
   ]
  },
  {
   "cell_type": "code",
   "execution_count": 22,
   "metadata": {
    "execution": {
     "iopub.execute_input": "2023-04-28T11:35:44.741043Z",
     "iopub.status.busy": "2023-04-28T11:35:44.740182Z",
     "iopub.status.idle": "2023-04-28T11:35:45.111340Z",
     "shell.execute_reply": "2023-04-28T11:35:45.110309Z",
     "shell.execute_reply.started": "2023-04-28T11:35:44.741004Z"
    },
    "id": "CFS9w3P30Hig",
    "outputId": "66adef77-4f7e-452e-9971-d7479a5c6a2a"
   },
   "outputs": [
    {
     "data": {
      "image/png": "[encoded data removed]",
      "text/plain": [
       "<Figure size 720x432 with 1 Axes>"
      ]
     },
     "metadata": {
      "needs_background": "light"
     },
     "output_type": "display_data"
    }
   ],
   "source": [
    "gs_slic_data[['open','open_predicted']].plot(figsize=(10,6))\n",
    "plt.xticks(rotation=45)\n",
    "plt.xlabel('Date',size=15)\n",
    "plt.ylabel('Stock Price',size=15)\n",
    "plt.title('Actual vs Predicted for open price',size=15)\n",
    "plt.show()"
   ]
  },
  {
   "cell_type": "code",
   "execution_count": 23,
   "metadata": {
    "execution": {
     "iopub.execute_input": "2023-04-28T11:35:45.113589Z",
     "iopub.status.busy": "2023-04-28T11:35:45.112940Z",
     "iopub.status.idle": "2023-04-28T11:35:45.450914Z",
     "shell.execute_reply": "2023-04-28T11:35:45.449702Z",
     "shell.execute_reply.started": "2023-04-28T11:35:45.113539Z"
    },
    "id": "YEYigZI8PFo1",
    "outputId": "0a9b81e8-2008-4058-dada-662c91108822"
   },
   "outputs": [
    {
     "data": {
      "image/png": "[encoded data removed]",
      "text/plain": [
       "<Figure size 720x432 with 1 Axes>"
      ]
     },
     "metadata": {
      "needs_background": "light"
     },
     "output_type": "display_data"
    }
   ],
   "source": [
    "gs_slic_data[['close','close_predicted']].plot(figsize=(10,6))\n",
    "plt.xticks(rotation=45)\n",
    "plt.xlabel('Date',size=15)\n",
    "plt.ylabel('Stock Price',size=15)\n",
    "plt.title('Actual vs Predicted for close price',size=15)\n",
    "plt.show()"
   ]
  },
  {
   "cell_type": "code",
   "execution_count": 24,
   "metadata": {
    "execution": {
     "iopub.execute_input": "2023-04-28T11:35:45.452719Z",
     "iopub.status.busy": "2023-04-28T11:35:45.452469Z",
     "iopub.status.idle": "2023-04-28T11:35:45.464334Z",
     "shell.execute_reply": "2023-04-28T11:35:45.463387Z",
     "shell.execute_reply.started": "2023-04-28T11:35:45.452690Z"
    },
    "id": "ByoVNOEn0Ht4"
   },
   "outputs": [],
   "source": [
    "# Creating a dataframe and adding 10 days to existing index \n",
    "\n",
    "gs_slic_data = gs_slic_data.append(pd.DataFrame(columns=gs_slic_data.columns,index=pd.date_range(start=gs_slic_data.index[-1], periods=11, freq='D', closed='right')))\n"
   ]
  },
  {
   "cell_type": "code",
   "execution_count": 25,
   "metadata": {
    "execution": {
     "iopub.execute_input": "2023-04-28T11:35:45.466645Z",
     "iopub.status.busy": "2023-04-28T11:35:45.466082Z",
     "iopub.status.idle": "2023-04-28T11:35:45.498235Z",
     "shell.execute_reply": "2023-04-28T11:35:45.497213Z",
     "shell.execute_reply.started": "2023-04-28T11:35:45.466591Z"
    },
    "id": "1s1rK-LV9Se_",
    "outputId": "6992b3eb-8fd2-46e8-bf57-5d63315720a1"
   },
   "outputs": [
    {
     "data": {
      "text/html": [
       "<div>\n",
       "<style scoped>\n",
       "    .dataframe tbody tr th:only-of-type {\n",
       "        vertical-align: middle;\n",
       "    }\n",
       "\n",
       "    .dataframe tbody tr th {\n",
       "        vertical-align: top;\n",
       "    }\n",
       "\n",
       "    .dataframe thead th {\n",
       "        text-align: right;\n",
       "    }\n",
       "</style>\n",
       "<table border=\"1\" class=\"dataframe\">\n",
       "  <thead>\n",
       "    <tr style=\"text-align: right;\">\n",
       "      <th></th>\n",
       "      <th>open</th>\n",
       "      <th>close</th>\n",
       "      <th>open_predicted</th>\n",
       "      <th>close_predicted</th>\n",
       "    </tr>\n",
       "  </thead>\n",
       "  <tbody>\n",
       "    <tr>\n",
       "      <th>2021-06-09</th>\n",
       "      <td>2499.50</td>\n",
       "      <td>2491.40</td>\n",
       "      <td>2321.323730</td>\n",
       "      <td>2330.287109</td>\n",
       "    </tr>\n",
       "    <tr>\n",
       "      <th>2021-06-10</th>\n",
       "      <td>2494.01</td>\n",
       "      <td>2521.60</td>\n",
       "      <td>2335.782959</td>\n",
       "      <td>2346.841309</td>\n",
       "    </tr>\n",
       "    <tr>\n",
       "      <th>2021-06-11</th>\n",
       "      <td>2524.92</td>\n",
       "      <td>2513.93</td>\n",
       "      <td>2347.428955</td>\n",
       "      <td>2359.701660</td>\n",
       "    </tr>\n",
       "    <tr>\n",
       "      <th>2021-06-12</th>\n",
       "      <td>NaN</td>\n",
       "      <td>NaN</td>\n",
       "      <td>NaN</td>\n",
       "      <td>NaN</td>\n",
       "    </tr>\n",
       "    <tr>\n",
       "      <th>2021-06-13</th>\n",
       "      <td>NaN</td>\n",
       "      <td>NaN</td>\n",
       "      <td>NaN</td>\n",
       "      <td>NaN</td>\n",
       "    </tr>\n",
       "    <tr>\n",
       "      <th>2021-06-14</th>\n",
       "      <td>NaN</td>\n",
       "      <td>NaN</td>\n",
       "      <td>NaN</td>\n",
       "      <td>NaN</td>\n",
       "    </tr>\n",
       "    <tr>\n",
       "      <th>2021-06-15</th>\n",
       "      <td>NaN</td>\n",
       "      <td>NaN</td>\n",
       "      <td>NaN</td>\n",
       "      <td>NaN</td>\n",
       "    </tr>\n",
       "    <tr>\n",
       "      <th>2021-06-16</th>\n",
       "      <td>NaN</td>\n",
       "      <td>NaN</td>\n",
       "      <td>NaN</td>\n",
       "      <td>NaN</td>\n",
       "    </tr>\n",
       "  </tbody>\n",
       "</table>\n",
       "</div>"
      ],
      "text/plain": [
       "               open    close  open_predicted  close_predicted\n",
       "2021-06-09  2499.50  2491.40     2321.323730      2330.287109\n",
       "2021-06-10  2494.01  2521.60     2335.782959      2346.841309\n",
       "2021-06-11  2524.92  2513.93     2347.428955      2359.701660\n",
       "2021-06-12      NaN      NaN             NaN              NaN\n",
       "2021-06-13      NaN      NaN             NaN              NaN\n",
       "2021-06-14      NaN      NaN             NaN              NaN\n",
       "2021-06-15      NaN      NaN             NaN              NaN\n",
       "2021-06-16      NaN      NaN             NaN              NaN"
      ]
     },
     "execution_count": 25,
     "metadata": {},
     "output_type": "execute_result"
    }
   ],
   "source": [
    "gs_slic_data['2021-06-09\t':'2021-06-16']"
   ]
  },
  {
   "cell_type": "code",
   "execution_count": 26,
   "metadata": {
    "execution": {
     "iopub.execute_input": "2023-04-28T11:35:45.500160Z",
     "iopub.status.busy": "2023-04-28T11:35:45.499841Z",
     "iopub.status.idle": "2023-04-28T11:35:45.509018Z",
     "shell.execute_reply": "2023-04-28T11:35:45.507993Z",
     "shell.execute_reply.started": "2023-04-28T11:35:45.500105Z"
    },
    "id": "NZrOofTiTUpA"
   },
   "outputs": [],
   "source": [
    "upcoming_prediction = pd.DataFrame(columns=['open','close'],index=gs_slic_data.index)\n",
    "upcoming_prediction.index=pd.to_datetime(upcoming_prediction.index)"
   ]
  },
  {
   "cell_type": "code",
   "execution_count": 27,
   "metadata": {
    "execution": {
     "iopub.execute_input": "2023-04-28T11:35:45.511991Z",
     "iopub.status.busy": "2023-04-28T11:35:45.510546Z",
     "iopub.status.idle": "2023-04-28T11:35:46.132782Z",
     "shell.execute_reply": "2023-04-28T11:35:46.131716Z",
     "shell.execute_reply.started": "2023-04-28T11:35:45.511928Z"
    },
    "id": "fexYhMesZHEy"
   },
   "outputs": [],
   "source": [
    "curr_seq = test_seq[-1:]\n",
    "\n",
    "for i in range(-10,0):\n",
    "  up_pred = model.predict(curr_seq)\n",
    "  upcoming_prediction.iloc[i] = up_pred\n",
    "  curr_seq = np.append(curr_seq[0][1:],up_pred,axis=0)\n",
    "  curr_seq = curr_seq.reshape(test_seq[-1:].shape)\n"
   ]
  },
  {
   "cell_type": "code",
   "execution_count": 28,
   "metadata": {
    "execution": {
     "iopub.execute_input": "2023-04-28T11:35:46.136849Z",
     "iopub.status.busy": "2023-04-28T11:35:46.136474Z",
     "iopub.status.idle": "2023-04-28T11:35:46.146417Z",
     "shell.execute_reply": "2023-04-28T11:35:46.145065Z",
     "shell.execute_reply.started": "2023-04-28T11:35:46.136802Z"
    },
    "id": "ffiWW_EIZHMT"
   },
   "outputs": [],
   "source": [
    "upcoming_prediction[['open','close']] = MMS.inverse_transform(upcoming_prediction[['open','close']])"
   ]
  },
  {
   "cell_type": "code",
   "execution_count": 29,
   "metadata": {
    "execution": {
     "iopub.execute_input": "2023-04-28T11:35:46.148493Z",
     "iopub.status.busy": "2023-04-28T11:35:46.148112Z",
     "iopub.status.idle": "2023-04-28T11:35:46.530504Z",
     "shell.execute_reply": "2023-04-28T11:35:46.529298Z",
     "shell.execute_reply.started": "2023-04-28T11:35:46.148446Z"
    },
    "id": "4DvMiPkTVlEe",
    "outputId": "c1ec957f-b7a4-46ed-858e-7a230b341ffa"
   },
   "outputs": [
    {
     "data": {
      "image/png": "[encoded data removed]",
      "text/plain": [
       "<Figure size 720x360 with 1 Axes>"
      ]
     },
     "metadata": {
      "needs_background": "light"
     },
     "output_type": "display_data"
    }
   ],
   "source": [
    "fg,ax=plt.subplots(figsize=(10,5))\n",
    "ax.plot(gs_slic_data.loc['2021-04-01':,'open'],label='Current Open Price')\n",
    "ax.plot(upcoming_prediction.loc['2021-04-01':,'open'],label='Upcoming Open Price')\n",
    "plt.setp(ax.xaxis.get_majorticklabels(), rotation=45)\n",
    "ax.set_xlabel('Date',size=15)\n",
    "ax.set_ylabel('Stock Price',size=15)\n",
    "ax.set_title('Upcoming Open price prediction',size=15)\n",
    "ax.legend()\n",
    "fg.show()"
   ]
  },
  {
   "cell_type": "code",
   "execution_count": 30,
   "metadata": {
    "execution": {
     "iopub.execute_input": "2023-04-28T11:35:46.533085Z",
     "iopub.status.busy": "2023-04-28T11:35:46.532781Z",
     "iopub.status.idle": "2023-04-28T11:35:46.903980Z",
     "shell.execute_reply": "2023-04-28T11:35:46.902640Z",
     "shell.execute_reply.started": "2023-04-28T11:35:46.533050Z"
    },
    "id": "r9EK16p7m8ZK",
    "outputId": "6bd4e931-511c-4575-ee32-339fca13794a"
   },
   "outputs": [
    {
     "data": {
      "image/png": "[encoded data removed]",
      "text/plain": [
       "<Figure size 720x360 with 1 Axes>"
      ]
     },
     "metadata": {
      "needs_background": "light"
     },
     "output_type": "display_data"
    }
   ],
   "source": [
    "fg,ax=plt.subplots(figsize=(10,5))\n",
    "ax.plot(gs_slic_data.loc['2021-04-01':,'close'],label='Current close Price')\n",
    "ax.plot(upcoming_prediction.loc['2021-04-01':,'close'],label='Upcoming close Price')\n",
    "plt.setp(ax.xaxis.get_majorticklabels(), rotation=45)\n",
    "ax.set_xlabel('Date',size=15)\n",
    "ax.set_ylabel('Stock Price',size=15)\n",
    "ax.set_title('Upcoming close price prediction',size=15)\n",
    "ax.legend()\n",
    "fg.show()"
   ]
  }
 ],
 "metadata": {
  "kernelspec": {
   "display_name": "Python 3",
   "language": "python",
   "name": "python3"
  },
  "language_info": {
   "codemirror_mode": {
    "name": "ipython",
    "version": 3
   },
   "file_extension": ".py",
   "mimetype": "text/x-python",
   "name": "python",
   "nbconvert_exporter": "python",
   "pygments_lexer": "ipython3",
   "version": "3.8.8"
  }
 },
 "nbformat": 4,
 "nbformat_minor": 4
}
